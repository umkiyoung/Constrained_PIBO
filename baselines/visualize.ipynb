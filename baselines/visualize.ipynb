{
 "cells": [
  {
   "cell_type": "code",
   "execution_count": 1,
   "metadata": {},
   "outputs": [],
   "source": [
    "import numpy as np\n",
    "import pandas as pd\n",
    "import matplotlib.pyplot as plt"
   ]
  },
  {
   "cell_type": "code",
   "execution_count": 5,
   "metadata": {},
   "outputs": [],
   "source": [
    "def get_cum_max(array):\n",
    "    \"\"\"\n",
    "    Calculate the cumulative maximum of a numpy array.\n",
    "    \"\"\"\n",
    "    # Initialize an empty list to store the cumulative maximum\n",
    "    cum_max = []\n",
    "    # Iterate through the array and calculate the cumulative maximum\n",
    "    for i in range(len(array)):\n",
    "        if i == 0:\n",
    "            cum_max.append(array[i])\n",
    "        else:\n",
    "            cum_max.append(max(cum_max[i-1], array[i]))\n",
    "    return np.array(cum_max)\n",
    "\n",
    "\n",
    "def load_data(path, alg, task, dim, seed, n_init, batch_size, max_evals):\n",
    "    \"\"\"\n",
    "    Load data from a specified path and return the numpy array.\n",
    "    \"\"\"\n",
    "    # Construct the filename based on the parameters\n",
    "    filename = f\"{alg}_{task}_{dim}_{seed}_{n_init}_{batch_size}_{max_evals}_{max_evals}.npy\"\n",
    "    # Load the numpy array from the file\n",
    "    try:\n",
    "        array = np.load(f\"{path}/{alg}/{filename}\")\n",
    "    except FileNotFoundError:\n",
    "        # If the file is not found, return None\n",
    "        print(f\"File {filename} not found in {path}/{alg}/\")\n",
    "        return None\n",
    "    return get_cum_max(array)"
   ]
  },
  {
   "cell_type": "code",
   "execution_count": 7,
   "metadata": {},
   "outputs": [],
   "source": [
    "path = './results'\n",
    "alg = 'scbo'\n",
    "task = 'Ackley'\n",
    "dim = 10\n",
    "seed = 0\n",
    "n_init = 10\n",
    "batch_size = 1\n",
    "max_evals = 200\n",
    "# Load the data\n",
    "data = load_data(path, alg, task, dim, seed, n_init, batch_size, max_evals)"
   ]
  },
  {
   "cell_type": "code",
   "execution_count": 12,
   "metadata": {},
   "outputs": [
    {
     "data": {
      "text/plain": [
       "[<matplotlib.lines.Line2D at 0x7fd13bad68b0>]"
      ]
     },
     "execution_count": 12,
     "metadata": {},
     "output_type": "execute_result"
    },
    {
     "data": {
      "image/png": "[encoded data removed]",
      "text/plain": [
       "<Figure size 640x480 with 1 Axes>"
      ]
     },
     "metadata": {},
     "output_type": "display_data"
    }
   ],
   "source": [
    "plt.plot(data)"
   ]
  }
 ],
 "metadata": {
  "kernelspec": {
   "display_name": "pibo",
   "language": "python",
   "name": "python3"
  },
  "language_info": {
   "codemirror_mode": {
    "name": "ipython",
    "version": 3
   },
   "file_extension": ".py",
   "mimetype": "text/x-python",
   "name": "python",
   "nbconvert_exporter": "python",
   "pygments_lexer": "ipython3",
   "version": "3.9.21"
  }
 },
 "nbformat": 4,
 "nbformat_minor": 2
}
